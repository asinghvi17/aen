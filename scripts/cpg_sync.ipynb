{
 "cells": [
  {
   "cell_type": "code",
   "execution_count": null,
   "metadata": {},
   "outputs": [],
   "source": [
    "using DifferentialEquations,\n",
    "      ParameterizedFunctions\n",
    "\n",
    "using Makie, Observables"
   ]
  },
  {
   "cell_type": "markdown",
   "metadata": {},
   "source": [
    "create ode\n",
    "The parameter structure is the following:\n",
    "- `e`, `b`, `g` and `J` specified per neuron\n",
    "- `Dgap` and `Dinhib` specified per neuron in the descending pathway - they control\n",
    "  the connections coming in to that neuron\n",
    "- `Kgap` and `Kinhib` constants which control asymmetry, specified per neuron, multiply with previous\n",
    "- The head oscillator does not use `Dgap` or `Kgap`; other than that, it's a normal neuron."
   ]
  },
  {
   "cell_type": "code",
   "execution_count": null,
   "metadata": {},
   "outputs": [],
   "source": [
    "es      = fill(0.04,   12)\n",
    "bs      = fill(0.04,   12)\n",
    "gs      = fill(0.8,    12)\n",
    "Js      = fill(0.2,    12)\n",
    "Dgaps   = fill(0.03,   12)\n",
    "Dinhibs = fill(-0.02,  12)\n",
    "Kgaps   = fill(1.0,    12)\n",
    "Kinhibs = fill(1.0,    12)"
   ]
  },
  {
   "cell_type": "markdown",
   "metadata": {},
   "source": [
    "These have to be special-cased for the head oscillator."
   ]
  },
  {
   "cell_type": "code",
   "execution_count": null,
   "metadata": {},
   "outputs": [],
   "source": [
    "Dinhibs[1:2] .= -0.047\n",
    "bs[1:2] .= 0.0"
   ]
  },
  {
   "cell_type": "markdown",
   "metadata": {},
   "source": [
    "This puts all the parameters together into a Vector of Vectors, which is useful to unpack."
   ]
  },
  {
   "cell_type": "code",
   "execution_count": null,
   "metadata": {},
   "outputs": [],
   "source": [
    "ps = [es, bs, gs, Js, Dgaps, Dinhibs, Kgaps, Kinhibs]"
   ]
  },
  {
   "cell_type": "markdown",
   "metadata": {},
   "source": [
    "We define the initial conditions;"
   ]
  },
  {
   "cell_type": "markdown",
   "metadata": {},
   "source": [
    "These are for the head oscillator,"
   ]
  },
  {
   "cell_type": "code",
   "execution_count": null,
   "metadata": {},
   "outputs": [],
   "source": [
    "vent_v0 = -2.0\n",
    "vent_w0 = -0.667\n",
    "dors_v0 = -2.0\n",
    "dors_w0 = -0.7"
   ]
  },
  {
   "cell_type": "markdown",
   "metadata": {},
   "source": [
    "and these define the descending pathway."
   ]
  },
  {
   "cell_type": "code",
   "execution_count": null,
   "metadata": {},
   "outputs": [],
   "source": [
    "vent_v1 = -2.0\n",
    "vent_w1 = -0.5\n",
    "dors_v1 = -1.0\n",
    "dors_w1 = -0.5\n",
    "vent_v2 = -1.0\n",
    "vent_w2 = -0.5\n",
    "dors_v2 = -1.0\n",
    "dors_w2 = -0.5\n",
    "vent_v3 = -1.0\n",
    "vent_w3 = -0.49\n",
    "dors_v3 = -1.0\n",
    "dors_w3 = -0.51\n",
    "vent_v4 = -1.0\n",
    "vent_w4 = -0.5\n",
    "dors_v4 = -1.0\n",
    "dors_w4 = -0.5\n",
    "vent_v5 = -1.0\n",
    "vent_w5 = -0.5\n",
    "dors_v5 = -1.0\n",
    "dors_w5 = -0.5\n",
    "\n",
    "u0 = [vent_v0,vent_w0,dors_v0,dors_w0,vent_v1,vent_w1,dors_v1,dors_w1,vent_v2, vent_w2, dors_v2, dors_w2, vent_v3, vent_w3, dors_v3, dors_w3, vent_v4, vent_w4, dors_v4, dors_w4, vent_v5, vent_w5, dors_v5, dors_w5 ]\n",
    "\n",
    "\n",
    "f(v) = min(max(-2 - v, v), 2 - v)\n",
    "\n",
    "function CPG!(du, u, p, t)"
   ]
  },
  {
   "cell_type": "markdown",
   "metadata": {},
   "source": [
    "du = zeros(length(u))"
   ]
  },
  {
   "cell_type": "markdown",
   "metadata": {},
   "source": [
    "`@inbounds` disables bounds checking, making\n",
    "array accesses much faster."
   ]
  },
  {
   "cell_type": "markdown",
   "metadata": {},
   "source": [
    "First, we unpack the parameters and the\n",
    "states.  The first chunk handles parameters,\n",
    "and the second and third chunks handle\n",
    "derivatives and states.\n",
    "The `@view` macro makes a \"view\" of an array\n",
    "without copying it, but it can have nonlinear\n",
    "indexing; this is very convenient."
   ]
  },
  {
   "cell_type": "code",
   "execution_count": null,
   "metadata": {},
   "outputs": [],
   "source": [
    "    @inbounds begin\n",
    "    es, bs, gs, Js, Dgaps, Dinhibs, Kgaps, Kinhibs = p"
   ]
  },
  {
   "cell_type": "markdown",
   "metadata": {},
   "source": [
    "Now, we get to the calculations."
   ]
  },
  {
   "cell_type": "markdown",
   "metadata": {},
   "source": [
    "First, we handle the head oscillator.\n",
    "first, the ventral side"
   ]
  },
  {
   "cell_type": "code",
   "execution_count": null,
   "metadata": {},
   "outputs": [],
   "source": [
    "    du[1] = f(u[1]) - u[2] + Kinhibs[1] * Dinhibs[1] * max(u[3] - u[1], 0)\n",
    "\n",
    "    du[2] = es[1] * (u[1] - gs[1] * u[2] + bs[1])\n",
    "\n",
    "    du[3] = f(u[3]) - u[4] + Kinhibs[2] * Dinhibs[2] * max(u[1] - u[2], 0)\n",
    "\n",
    "    du[4] = es[2] * (u[3] - gs[2] * u[4] + bs[2])"
   ]
  },
  {
   "cell_type": "markdown",
   "metadata": {},
   "source": [
    "du[1] = f(vs[1])\n",
    "    - ws[1]\n",
    "    + Kinhibs[1] * Dinhibs[1] * max(vs[2] - vs[1], 0)\n",
    "    + Js[1]\n",
    "\n",
    "du[2] = es[1] * (vs[1] - gs[1] * ws[1] + bs[1])\n",
    "\n",
    "du[3] = f(vs[2])\n",
    "    - ws[2]\n",
    "    + Kinhibs[2] * Dinhibs[2] * max(vs[1] - vs[2], 0)\n",
    "    + Js[2]\n",
    "\n",
    "du[4] = es[2] * (vs[2] - gs[2] * ws[2] + bs[2])"
   ]
  },
  {
   "cell_type": "markdown",
   "metadata": {},
   "source": [
    "Now, we handle the descending pathway.\n",
    "The symmetry of the C. elegans CPG means that\n",
    "the loop is surprisingly simple, and we can\n",
    "enable several performance optimizations."
   ]
  },
  {
   "cell_type": "code",
   "execution_count": null,
   "metadata": {},
   "outputs": [],
   "source": [
    "    for i in 2:11\n",
    "        nn = i * 2 + 1\n",
    "        v = u[nn]\n",
    "        w = u[nn + 1]\n",
    "        pre_v = u[nn - 4]\n",
    "        opp_v = u[nn - 2]\n",
    "        du[nn] = f(v) - w + Kinhibs[i] * Dinhibs[i] * max(opp_v - v, 0) + Kgaps[i] * Dgaps[i] * max(pre_v - v, 0) + Js[i]\n",
    "\n",
    "        du[nn + 1] = es[i] * (v - gs[i] * w + bs[i])\n",
    "\n",
    "    end\n",
    "    end\n",
    "    return du\n",
    "end"
   ]
  },
  {
   "cell_type": "markdown",
   "metadata": {},
   "source": [
    "function FHND_(u, p, t)\n",
    "    es, bs, gs, Js, Dgaps, Dinhibs, Kgaps, Kinhibs = p\n",
    "\n",
    "    return [\n",
    "        f(u[1]) - u[2] + Dinhibs[1] * max(u[3] - u[1], 0),\n",
    "\n",
    "        es[1] * (u[1] - gs[1] * u[2] + bs[1]),\n",
    "\n",
    "        f(u[3]) - u[4] + Dinhibs[2] * max(u[1] - u[2], 0),\n",
    "\n",
    "        es[2] * (u[3] - gs[2] * u[4] + bs[2]),\n",
    "    ]\n",
    "end"
   ]
  },
  {
   "cell_type": "code",
   "execution_count": null,
   "metadata": {},
   "outputs": [],
   "source": [
    "prob = ODEProblem(CPG!, u0, (0.0, 2000.0), ps)\n",
    "\n",
    "sol = solve(prob)\n",
    "\n",
    "Plots.plot(sol; vars = 1:2:24)\n",
    "\n",
    "Plots.plot(sol; vars = 1:4:24, tspan = 1000:2000)"
   ]
  },
  {
   "cell_type": "markdown",
   "metadata": {},
   "source": [
    "---\n",
    "\n",
    "*This notebook was generated using [Literate.jl](https://github.com/fredrikekre/Literate.jl).*"
   ]
  }
 ],
 "metadata": {
  "kernelspec": {
   "display_name": "Julia 1.4.0-rc1",
   "language": "julia",
   "name": "julia-1.4"
  },
  "language_info": {
   "file_extension": ".jl",
   "mimetype": "application/julia",
   "name": "julia",
   "version": "1.4.0"
  }
 },
 "nbformat": 4,
 "nbformat_minor": 3
}
